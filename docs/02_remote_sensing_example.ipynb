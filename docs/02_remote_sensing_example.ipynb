{
 "cells": [
  {
   "cell_type": "markdown",
   "metadata": {},
   "source": [
    "# Exemple for remorte sensing applications"
   ]
  },
  {
   "cell_type": "code",
   "execution_count": 1,
   "metadata": {},
   "outputs": [],
   "source": [
    "import os, sys\n",
    "sys.path.insert(0, os.path.abspath(\"..\"))\n",
    "\n",
    "import geoclide as gc\n",
    "import math"
   ]
  },
  {
   "cell_type": "markdown",
   "metadata": {},
   "source": [
    "## Find the x and y components of the satellite position knowing its altitude and its viewing zenith and azimuth angles"
   ]
  },
  {
   "cell_type": "code",
   "execution_count": 2,
   "metadata": {},
   "outputs": [],
   "source": [
    "vza = 45. # viewing zenith angle in degrees\n",
    "vaa = 45. # viewing azimuth angle in degrees\n",
    "sat_altitude = 700.  # satellite altitude in kilometers\n",
    "origin = gc.Point(0., 0., 0.) # origin is the viewer seeing the satellite\n",
    "# The vaa start from north going clockwise.\n",
    "# Let's assume that in our coordinate system the x axis is in the north direction\n",
    "# Then theta (zenith) angle = vza and phi (azimuth) angle = -vaa\n",
    "theta = vza\n",
    "phi = -vaa\n",
    "\n",
    "# Get the vector from ground to the satellite\n",
    "dir_to_sat = gc.ang2vec(theta=theta, phi=phi)\n",
    "ray = gc.Ray(o=origin, d=dir_to_sat) # create the ray, starting from origin going in dir_to_sat direction"
   ]
  },
  {
   "cell_type": "markdown",
   "metadata": {},
   "source": [
    "### Here without considering the sphericity of the earth"
   ]
  },
  {
   "cell_type": "code",
   "execution_count": 3,
   "metadata": {},
   "outputs": [
    {
     "data": {
      "text/plain": [
       "array([ 494.97474683, -494.97474683,  700.        ])"
      ]
     },
     "execution_count": 3,
     "metadata": {},
     "output_type": "execute_result"
    }
   ],
   "source": [
    "b1 = gc.BBox(p1=gc.Point(-math.inf, -math.inf, 0.), p2=gc.Point(math.inf, math.inf, sat_altitude))\n",
    "ds_pp = gc.calc_intersection(b1, ray) # return an xarray dataset\n",
    "ds_pp['phit'].values"
   ]
  },
  {
   "cell_type": "markdown",
   "metadata": {},
   "source": [
    "### Here with the consideration of the sphericity of the earth"
   ]
  },
  {
   "cell_type": "code",
   "execution_count": 4,
   "metadata": {},
   "outputs": [
    {
     "data": {
      "text/plain": [
       "array([ 472.61058011, -472.61058011,  668.37229212])"
      ]
     },
     "execution_count": 4,
     "metadata": {},
     "output_type": "execute_result"
    }
   ],
   "source": [
    "earth_radius = 6378. # the equatorial earth radius in kilometers\n",
    "oTw = gc.get_translate_tf(gc.Vector(0., 0., -earth_radius))\n",
    "sphere_sat_alti = gc.Sphere(radius=earth_radius+sat_altitude, oTw=oTw)  # apply oTw to move the sphere center to earth center\n",
    "ds_sp = gc.calc_intersection(sphere_sat_alti, ray) # return an xarray dataset\n",
    "ds_sp['phit'].values"
   ]
  }
 ],
 "metadata": {
  "kernelspec": {
   "display_name": "geoclide-py313",
   "language": "python",
   "name": "python3"
  },
  "language_info": {
   "codemirror_mode": {
    "name": "ipython",
    "version": 3
   },
   "file_extension": ".py",
   "mimetype": "text/x-python",
   "name": "python",
   "nbconvert_exporter": "python",
   "pygments_lexer": "ipython3",
   "version": "3.13.2"
  }
 },
 "nbformat": 4,
 "nbformat_minor": 2
}
